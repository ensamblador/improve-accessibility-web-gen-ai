{
 "cells": [
  {
   "cell_type": "markdown",
   "metadata": {},
   "source": [
    "# Analisis de Imagenes para texto alternativo usando contexto"
   ]
  },
  {
   "cell_type": "code",
   "execution_count": 1,
   "metadata": {},
   "outputs": [],
   "source": [
    "import json\n",
    "import boto3\n",
    "from IPython.display import display, HTML\n",
    "import base64"
   ]
  },
  {
   "cell_type": "markdown",
   "metadata": {},
   "source": [
    "### 1. Crea el cliente Bedrock usando SDK de AWS"
   ]
  },
  {
   "cell_type": "code",
   "execution_count": 2,
   "metadata": {},
   "outputs": [],
   "source": [
    "modelId = 'anthropic.claude-3-sonnet-20240229-v1:0'\n",
    "accept = 'application/json'\n",
    "contentType = 'application/json'\n",
    "\n",
    "bedrock = boto3.client(\"bedrock-runtime\")\n"
   ]
  },
  {
   "cell_type": "markdown",
   "metadata": {},
   "source": [
    "### 3. Analiza la imagen y crea el texto alternativo"
   ]
  },
  {
   "cell_type": "code",
   "execution_count": 10,
   "metadata": {},
   "outputs": [],
   "source": [
    "image_path = \"./samples/sample_alarm.jpg\"\n",
    "\n",
    "with open(image_path, \"rb\") as image_file:\n",
    "    content_image = base64.b64encode(image_file.read()).decode('utf8')\n",
    "\n",
    "\n",
    "previous_text = \"En la imagen de abajo se ve las diferentes alarmas del sistema\"\n",
    "following_text = \"Podemos ver que existen dos alarmas posibles.\"\n",
    "\n",
    "\n",
    "message = {\n",
    "    \"role\": \"user\",\n",
    "    \"content\": [\n",
    "        {\"type\":\"text\",\"text\":previous_text},\n",
    "        {\n",
    "            \"type\": \"image\", \n",
    "            \"source\": {\n",
    "                \"type\": \"base64\", \n",
    "                \"media_type\": \"image/jpeg\", \n",
    "                \"data\": content_image\n",
    "            }\n",
    "        },\n",
    "        {\"type\":\"text\",\"text\":following_text}\n",
    "    ]\n",
    "}\n",
    "\n",
    "system_prompt = \"\"\"Tu eres un revisor de articulos web que van a ser publicados, tu misión es ver las imágenes y leer el texto para encontrar contenido web no inclusivo para personas con discapacidad visual. A continuación te muestro algunos ejemplos:\n",
    "\n",
    "Ejemplo de escritura no inclusiva:\n",
    "Incorrecto:'Como se puede ver en la imagen de arriba, el proceso inicia...' \n",
    "Corrección: 'En el diagrama anterior, el proceso inicia...'\n",
    "\n",
    "Ejemplo de imagen no inclusiva:\n",
    "Incorrecto: (usando una imagen con colores rojo y verde) 'El color rojo representa un sistema alarmado, y el verde el sistema saludable'\n",
    "Correcto: (usando una imagen con colores rojo y amarillo y etiquetas de texto para cada color) 'Acá se muestra el sistema alarmado y el sistema saludable'\n",
    "\"\"\"\n",
    "\n",
    "\n",
    "body = {\n",
    "    \"system\": system_prompt,\n",
    "    \"messages\":[message],\"anthropic_version\":\"bedrock-2023-05-31\",\"max_tokens\":500, \"temperature\":0\n",
    "}\n",
    "\n",
    "response = bedrock.invoke_model(body=json.dumps(body), modelId=modelId, accept=accept, contentType=contentType)\n",
    "response_body = json.loads(response.get('body').read())\n",
    "\n",
    "alt_text = response_body.get(\"content\")[0].get(\"text\")"
   ]
  },
  {
   "cell_type": "markdown",
   "metadata": {},
   "source": [
    "### 4. Resultado"
   ]
  },
  {
   "cell_type": "code",
   "execution_count": 11,
   "metadata": {},
   "outputs": [
    {
     "name": "stdout",
     "output_type": "stream",
     "text": [
      "La descripción \"En la imagen de abajo se ve las diferentes alarmas del sistema\" no es inclusiva para personas con discapacidad visual, ya que asume que el lector puede ver la imagen. Una descripción más inclusiva sería:\n",
      "\n",
      "La imagen muestra dos círculos de colores, uno rojo y otro verde, que representan diferentes tipos de alarmas del sistema. Sin embargo, no se proporcionan etiquetas de texto que indiquen qué significa cada color, lo cual dificultaría la comprensión para personas con discapacidad visual. Una mejor práctica sería incluir una leyenda o descripción textual que explique el significado de los colores utilizados.\n"
     ]
    }
   ],
   "source": [
    "print(response_body.get(\"content\")[0].get(\"text\"))"
   ]
  }
 ],
 "metadata": {
  "kernelspec": {
   "display_name": ".venv",
   "language": "python",
   "name": "python3"
  },
  "language_info": {
   "codemirror_mode": {
    "name": "ipython",
    "version": 3
   },
   "file_extension": ".py",
   "mimetype": "text/x-python",
   "name": "python",
   "nbconvert_exporter": "python",
   "pygments_lexer": "ipython3",
   "version": "3.11.7"
  }
 },
 "nbformat": 4,
 "nbformat_minor": 2
}
